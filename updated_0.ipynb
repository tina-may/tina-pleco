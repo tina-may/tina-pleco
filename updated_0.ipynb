{
 "cells": [
  {
   "cell_type": "markdown",
   "metadata": {},
   "source": [
    "# convert pleco dump to spreadsheet"
   ]
  },
  {
   "cell_type": "code",
   "execution_count": 1,
   "metadata": {},
   "outputs": [
    {
     "ename": "ModuleNotFoundError",
     "evalue": "No module named 'pandas'",
     "output_type": "error",
     "traceback": [
      "\u001b[1;31m---------------------------------------------------------------------------\u001b[0m",
      "\u001b[1;31mModuleNotFoundError\u001b[0m                       Traceback (most recent call last)",
      "\u001b[1;32m~\\AppData\\Local\\Temp/ipykernel_13252/2537052070.py\u001b[0m in \u001b[0;36m<module>\u001b[1;34m\u001b[0m\n\u001b[0;32m     31\u001b[0m \u001b[1;33m\u001b[0m\u001b[0m\n\u001b[0;32m     32\u001b[0m \u001b[1;31m#convert xml to csv\u001b[0m\u001b[1;33m\u001b[0m\u001b[1;33m\u001b[0m\u001b[1;33m\u001b[0m\u001b[0m\n\u001b[1;32m---> 33\u001b[1;33m \u001b[1;32mimport\u001b[0m \u001b[0mpandas\u001b[0m \u001b[1;32mas\u001b[0m \u001b[0mpd\u001b[0m\u001b[1;33m\u001b[0m\u001b[1;33m\u001b[0m\u001b[0m\n\u001b[0m\u001b[0;32m     34\u001b[0m \u001b[0mcards_frame\u001b[0m \u001b[1;33m=\u001b[0m \u001b[0mpd\u001b[0m\u001b[1;33m.\u001b[0m\u001b[0mDataFrame\u001b[0m\u001b[1;33m(\u001b[0m\u001b[0mcard_data\u001b[0m\u001b[1;33m)\u001b[0m\u001b[1;33m\u001b[0m\u001b[1;33m\u001b[0m\u001b[0m\n\u001b[0;32m     35\u001b[0m \u001b[1;32mfor\u001b[0m \u001b[0mstamp\u001b[0m \u001b[1;32min\u001b[0m \u001b[1;33m[\u001b[0m\u001b[1;34m\"last_reviewed_stamp\"\u001b[0m\u001b[1;33m,\u001b[0m\u001b[1;34m\"created_stamp\"\u001b[0m\u001b[1;33m,\u001b[0m\u001b[1;34m\"modified_stamp\"\u001b[0m\u001b[1;33m]\u001b[0m\u001b[1;33m:\u001b[0m\u001b[1;33m\u001b[0m\u001b[1;33m\u001b[0m\u001b[0m\n",
      "\u001b[1;31mModuleNotFoundError\u001b[0m: No module named 'pandas'"
     ]
    }
   ],
   "source": [
    "#import xml file\n",
    "import xml.etree.ElementTree as ET\n",
    "import csv\n",
    "tree = ET.parse('./Report.xml')\n",
    "root = tree.getroot()\n",
    "card_data = []\n",
    "for card in root.findall(\".//card\"):\n",
    "    card_datum = {}\n",
    "    card_datum[\"created_stamp\"] = card.get(\"created\")\n",
    "    card_datum[\"modified_stamp\"] = card.get(\"modified\")\n",
    "    \n",
    "    entry = card.find(\"./entry\")\n",
    "    card_datum[\"traditional\"] = entry.find(\"./headword[@charset='tc']\").text\n",
    "\n",
    "    if entry.find(\"./cantopron\") is None:\n",
    "        continue\n",
    "    card_datum[\"jyutping\"] = entry.find(\"./cantopron\").text\n",
    "    \n",
    "    if card.find(\"scoreinfo\") is None:\n",
    "        continue\n",
    "    card_datum[\"correct\"] = int(card.find(\"scoreinfo\").get(\"correct\"))\n",
    "    card_datum[\"incorrect\"] = int(card.find(\"scoreinfo\").get(\"incorrect\"))\n",
    "    card_datum[\"difficulty\"] = int(card.find(\"scoreinfo\").get(\"difficulty\"))\n",
    "    card_datum[\"priority\"] = card.find(\"scoreinfo\").get(\"priority\")\n",
    "    card_datum[\"last_reviewed_stamp\"] = int(card.find(\"scoreinfo\").get(\"lastreviewedtime\"))\n",
    "    card_data.append(card_datum)\n",
    "    \n",
    "    \n",
    "\n",
    "    \n",
    "    \n",
    "#convert xml to csv\n",
    "import pandas as pd\n",
    "cards_frame = pd.DataFrame(card_data)\n",
    "for stamp in [\"last_reviewed_stamp\",\"created_stamp\",\"modified_stamp\"]:\n",
    "    cards_frame[stamp] = pd.to_datetime(cards_frame[stamp],unit='s')\n",
    "    \n",
    "cards_frame.sort_values(\"created_stamp\", ascending=False,inplace=True)\n",
    "cards_frame.to_csv('./Report.csv', index = False)\n"
   ]
  },
  {
   "cell_type": "markdown",
   "metadata": {},
   "source": [
    "# View 30 Most Recently Added Vocabs"
   ]
  },
  {
   "cell_type": "code",
   "execution_count": null,
   "metadata": {
    "scrolled": false
   },
   "outputs": [],
   "source": [
    "#30 most recently added\n",
    "cards_frame.sort_values(\"created_stamp\", ascending=False).head(30)"
   ]
  },
  {
   "cell_type": "markdown",
   "metadata": {},
   "source": [
    "# View 30 Most Recently Reviewed Vocabs"
   ]
  },
  {
   "cell_type": "code",
   "execution_count": null,
   "metadata": {
    "scrolled": true
   },
   "outputs": [],
   "source": [
    "#30 most recently reviewed\n",
    "cards_frame.sort_values(\"last_reviewed_stamp\", ascending=False).head(30)"
   ]
  },
  {
   "cell_type": "markdown",
   "metadata": {},
   "source": [
    "# View 30 Random Vocabs"
   ]
  },
  {
   "cell_type": "code",
   "execution_count": null,
   "metadata": {
    "scrolled": true
   },
   "outputs": [],
   "source": [
    "#30 random words\n",
    "cards_frame.sample(frac=1).head(30)"
   ]
  },
  {
   "cell_type": "markdown",
   "metadata": {},
   "source": [
    "# Cell Reserved for Searching"
   ]
  },
  {
   "cell_type": "code",
   "execution_count": null,
   "metadata": {},
   "outputs": [],
   "source": [
    "cards_frame[cards_frame.traditional.str.contains('一')]"
   ]
  },
  {
   "cell_type": "markdown",
   "metadata": {},
   "source": [
    "# Weekly Review Stats"
   ]
  },
  {
   "cell_type": "code",
   "execution_count": null,
   "metadata": {},
   "outputs": [],
   "source": [
    "import datetime\n",
    "\n",
    "\n",
    "\n",
    "today = pd.to_datetime(\"today\").round('1d')\n",
    "week_range = pd.date_range(today-pd.Timedelta(days=6),today,freq='d')\n",
    "date2count ={\"date\":week_range,\"total reviews\":[0]*7,\"date_\":[x.strftime('%a %m-%d') for x in week_range]}\n",
    "for card_stamp in cards_frame[\"last_reviewed_stamp\"]:\n",
    "    for day_of_week in week_range:\n",
    "        if day_of_week < card_stamp < day_of_week+pd.Timedelta(days=1):\n",
    "            date2count[\"total reviews\"][list(week_range).index(day_of_week)] += 1\n",
    "            break\n",
    "            \n",
    "\n",
    "            \n",
    "            \n",
    "\n",
    "datesframe = pd.DataFrame(date2count)\n",
    "\n",
    "\n",
    "datesframe.plot.bar(x='date_', y='total reviews', rot=60)\n"
   ]
  }
 ],
 "metadata": {
  "hide_input": false,
  "kernelspec": {
   "display_name": "Python 3 (ipykernel)",
   "language": "python",
   "name": "python3"
  },
  "language_info": {
   "codemirror_mode": {
    "name": "ipython",
    "version": 3
   },
   "file_extension": ".py",
   "mimetype": "text/x-python",
   "name": "python",
   "nbconvert_exporter": "python",
   "pygments_lexer": "ipython3",
   "version": "3.7.9"
  }
 },
 "nbformat": 4,
 "nbformat_minor": 4
}
